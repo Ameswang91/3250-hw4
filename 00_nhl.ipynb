{
 "cells": [
  {
   "cell_type": "markdown",
   "id": "0874ebc7-b265-414f-9dbd-ead81b87c54e",
   "metadata": {},
   "source": [
    "## HW 4 NHL Scaraping"
   ]
  },
  {
   "cell_type": "markdown",
   "id": "7f7d5ca6-beec-4249-b288-e333cbd15c74",
   "metadata": {},
   "source": [
    "## 11/11/2024"
   ]
  },
  {
   "cell_type": "code",
   "execution_count": null,
   "id": "7dec28ad-6abf-4e3d-aee1-140b5cdb4773",
   "metadata": {},
   "outputs": [],
   "source": [
    "## Code goes here"
   ]
  },
  {
   "cell_type": "code",
   "execution_count": null,
   "id": "73ba5fd4-2c5e-4bbe-ab6b-79d42ada4cd2",
   "metadata": {},
   "outputs": [],
   "source": [
    "print(\"Hello world\")"
   ]
  }
 ],
 "metadata": {
  "kernelspec": {
   "display_name": "Python 3 (ipykernel)",
   "language": "python",
   "name": "python3"
  },
  "language_info": {
   "codemirror_mode": {
    "name": "ipython",
    "version": 3
   },
   "file_extension": ".py",
   "mimetype": "text/x-python",
   "name": "python",
   "nbconvert_exporter": "python",
   "pygments_lexer": "ipython3",
   "version": "3.12.3"
  }
 },
 "nbformat": 4,
 "nbformat_minor": 5
}
